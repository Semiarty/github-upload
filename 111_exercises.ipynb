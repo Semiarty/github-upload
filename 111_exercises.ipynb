{
  "nbformat": 4,
  "nbformat_minor": 0,
  "metadata": {
    "colab": {
      "name": "111_exercises.ipynb",
      "provenance": [],
      "collapsed_sections": [],
      "authorship_tag": "ABX9TyNa+RyH9I5pvPuTfxHBa172",
      "include_colab_link": true
    },
    "kernelspec": {
      "name": "python3",
      "display_name": "Python 3"
    }
  },
  "cells": [
    {
      "cell_type": "markdown",
      "metadata": {
        "id": "view-in-github",
        "colab_type": "text"
      },
      "source": [
        "<a href=\"https://colab.research.google.com/github/Semiarty/github-upload/blob/master/111_exercises.ipynb\" target=\"_parent\"><img src=\"https://colab.research.google.com/assets/colab-badge.svg\" alt=\"Open In Colab\"/></a>"
      ]
    },
    {
      "cell_type": "code",
      "metadata": {
        "id": "4ipkTg387i8u"
      },
      "source": [
        "import pandas as pd"
      ],
      "execution_count": 1,
      "outputs": []
    },
    {
      "cell_type": "code",
      "metadata": {
        "id": "AHKvkFk68mfR"
      },
      "source": [
        "url = 'https://raw.githubusercontent.com/fivethirtyeight/data/master/nba-elo/nbaallelo.csv'\n",
        "df1 = pd.read_csv(url)"
      ],
      "execution_count": 2,
      "outputs": []
    },
    {
      "cell_type": "code",
      "metadata": {
        "colab": {
          "base_uri": "https://localhost:8080/",
          "height": 224
        },
        "id": "qq6R1pN38u80",
        "outputId": "9fbf9309-39cb-4545-f384-f547b83f3547"
      },
      "source": [
        "df1.head()"
      ],
      "execution_count": 3,
      "outputs": [
        {
          "output_type": "execute_result",
          "data": {
            "text/html": [
              "<div>\n",
              "<style scoped>\n",
              "    .dataframe tbody tr th:only-of-type {\n",
              "        vertical-align: middle;\n",
              "    }\n",
              "\n",
              "    .dataframe tbody tr th {\n",
              "        vertical-align: top;\n",
              "    }\n",
              "\n",
              "    .dataframe thead th {\n",
              "        text-align: right;\n",
              "    }\n",
              "</style>\n",
              "<table border=\"1\" class=\"dataframe\">\n",
              "  <thead>\n",
              "    <tr style=\"text-align: right;\">\n",
              "      <th></th>\n",
              "      <th>gameorder</th>\n",
              "      <th>game_id</th>\n",
              "      <th>lg_id</th>\n",
              "      <th>_iscopy</th>\n",
              "      <th>year_id</th>\n",
              "      <th>date_game</th>\n",
              "      <th>seasongame</th>\n",
              "      <th>is_playoffs</th>\n",
              "      <th>team_id</th>\n",
              "      <th>fran_id</th>\n",
              "      <th>pts</th>\n",
              "      <th>elo_i</th>\n",
              "      <th>elo_n</th>\n",
              "      <th>win_equiv</th>\n",
              "      <th>opp_id</th>\n",
              "      <th>opp_fran</th>\n",
              "      <th>opp_pts</th>\n",
              "      <th>opp_elo_i</th>\n",
              "      <th>opp_elo_n</th>\n",
              "      <th>game_location</th>\n",
              "      <th>game_result</th>\n",
              "      <th>forecast</th>\n",
              "      <th>notes</th>\n",
              "    </tr>\n",
              "  </thead>\n",
              "  <tbody>\n",
              "    <tr>\n",
              "      <th>0</th>\n",
              "      <td>1</td>\n",
              "      <td>194611010TRH</td>\n",
              "      <td>NBA</td>\n",
              "      <td>0</td>\n",
              "      <td>1947</td>\n",
              "      <td>11/1/1946</td>\n",
              "      <td>1</td>\n",
              "      <td>0</td>\n",
              "      <td>TRH</td>\n",
              "      <td>Huskies</td>\n",
              "      <td>66</td>\n",
              "      <td>1300.0000</td>\n",
              "      <td>1293.2767</td>\n",
              "      <td>40.294830</td>\n",
              "      <td>NYK</td>\n",
              "      <td>Knicks</td>\n",
              "      <td>68</td>\n",
              "      <td>1300.0000</td>\n",
              "      <td>1306.7233</td>\n",
              "      <td>H</td>\n",
              "      <td>L</td>\n",
              "      <td>0.640065</td>\n",
              "      <td>NaN</td>\n",
              "    </tr>\n",
              "    <tr>\n",
              "      <th>1</th>\n",
              "      <td>1</td>\n",
              "      <td>194611010TRH</td>\n",
              "      <td>NBA</td>\n",
              "      <td>1</td>\n",
              "      <td>1947</td>\n",
              "      <td>11/1/1946</td>\n",
              "      <td>1</td>\n",
              "      <td>0</td>\n",
              "      <td>NYK</td>\n",
              "      <td>Knicks</td>\n",
              "      <td>68</td>\n",
              "      <td>1300.0000</td>\n",
              "      <td>1306.7233</td>\n",
              "      <td>41.705170</td>\n",
              "      <td>TRH</td>\n",
              "      <td>Huskies</td>\n",
              "      <td>66</td>\n",
              "      <td>1300.0000</td>\n",
              "      <td>1293.2767</td>\n",
              "      <td>A</td>\n",
              "      <td>W</td>\n",
              "      <td>0.359935</td>\n",
              "      <td>NaN</td>\n",
              "    </tr>\n",
              "    <tr>\n",
              "      <th>2</th>\n",
              "      <td>2</td>\n",
              "      <td>194611020CHS</td>\n",
              "      <td>NBA</td>\n",
              "      <td>0</td>\n",
              "      <td>1947</td>\n",
              "      <td>11/2/1946</td>\n",
              "      <td>1</td>\n",
              "      <td>0</td>\n",
              "      <td>CHS</td>\n",
              "      <td>Stags</td>\n",
              "      <td>63</td>\n",
              "      <td>1300.0000</td>\n",
              "      <td>1309.6521</td>\n",
              "      <td>42.012257</td>\n",
              "      <td>NYK</td>\n",
              "      <td>Knicks</td>\n",
              "      <td>47</td>\n",
              "      <td>1306.7233</td>\n",
              "      <td>1297.0712</td>\n",
              "      <td>H</td>\n",
              "      <td>W</td>\n",
              "      <td>0.631101</td>\n",
              "      <td>NaN</td>\n",
              "    </tr>\n",
              "    <tr>\n",
              "      <th>3</th>\n",
              "      <td>2</td>\n",
              "      <td>194611020CHS</td>\n",
              "      <td>NBA</td>\n",
              "      <td>1</td>\n",
              "      <td>1947</td>\n",
              "      <td>11/2/1946</td>\n",
              "      <td>2</td>\n",
              "      <td>0</td>\n",
              "      <td>NYK</td>\n",
              "      <td>Knicks</td>\n",
              "      <td>47</td>\n",
              "      <td>1306.7233</td>\n",
              "      <td>1297.0712</td>\n",
              "      <td>40.692783</td>\n",
              "      <td>CHS</td>\n",
              "      <td>Stags</td>\n",
              "      <td>63</td>\n",
              "      <td>1300.0000</td>\n",
              "      <td>1309.6521</td>\n",
              "      <td>A</td>\n",
              "      <td>L</td>\n",
              "      <td>0.368899</td>\n",
              "      <td>NaN</td>\n",
              "    </tr>\n",
              "    <tr>\n",
              "      <th>4</th>\n",
              "      <td>3</td>\n",
              "      <td>194611020DTF</td>\n",
              "      <td>NBA</td>\n",
              "      <td>0</td>\n",
              "      <td>1947</td>\n",
              "      <td>11/2/1946</td>\n",
              "      <td>1</td>\n",
              "      <td>0</td>\n",
              "      <td>DTF</td>\n",
              "      <td>Falcons</td>\n",
              "      <td>33</td>\n",
              "      <td>1300.0000</td>\n",
              "      <td>1279.6189</td>\n",
              "      <td>38.864048</td>\n",
              "      <td>WSC</td>\n",
              "      <td>Capitols</td>\n",
              "      <td>50</td>\n",
              "      <td>1300.0000</td>\n",
              "      <td>1320.3811</td>\n",
              "      <td>H</td>\n",
              "      <td>L</td>\n",
              "      <td>0.640065</td>\n",
              "      <td>NaN</td>\n",
              "    </tr>\n",
              "  </tbody>\n",
              "</table>\n",
              "</div>"
            ],
            "text/plain": [
              "   gameorder       game_id lg_id  ...  game_result  forecast notes\n",
              "0          1  194611010TRH   NBA  ...            L  0.640065   NaN\n",
              "1          1  194611010TRH   NBA  ...            W  0.359935   NaN\n",
              "2          2  194611020CHS   NBA  ...            W  0.631101   NaN\n",
              "3          2  194611020CHS   NBA  ...            L  0.368899   NaN\n",
              "4          3  194611020DTF   NBA  ...            L  0.640065   NaN\n",
              "\n",
              "[5 rows x 23 columns]"
            ]
          },
          "metadata": {
            "tags": []
          },
          "execution_count": 3
        }
      ]
    },
    {
      "cell_type": "code",
      "metadata": {
        "colab": {
          "base_uri": "https://localhost:8080/"
        },
        "id": "mMA35w9L8v-I",
        "outputId": "9e1e68ed-164e-4d7f-890b-51eff99c9eee"
      },
      "source": [
        "!wget https://raw.githubusercontent.com/fivethirtyeight/data/master/nba-elo/nbaallelo.csv -O nbaallelo.csv"
      ],
      "execution_count": 5,
      "outputs": [
        {
          "output_type": "stream",
          "text": [
            "--2020-12-06 12:08:40--  https://raw.githubusercontent.com/fivethirtyeight/data/master/nba-elo/nbaallelo.csv\n",
            "Resolving raw.githubusercontent.com (raw.githubusercontent.com)... 151.101.0.133, 151.101.64.133, 151.101.128.133, ...\n",
            "Connecting to raw.githubusercontent.com (raw.githubusercontent.com)|151.101.0.133|:443... connected.\n",
            "HTTP request sent, awaiting response... 200 OK\n",
            "Length: 18173265 (17M) [text/plain]\n",
            "Saving to: ‘nbaallelo.csv’\n",
            "\n",
            "nbaallelo.csv       100%[===================>]  17.33M  96.8MB/s    in 0.2s    \n",
            "\n",
            "2020-12-06 12:08:40 (96.8 MB/s) - ‘nbaallelo.csv’ saved [18173265/18173265]\n",
            "\n"
          ],
          "name": "stdout"
        }
      ]
    },
    {
      "cell_type": "code",
      "metadata": {
        "id": "sQwYHaPB9ASY"
      },
      "source": [
        "df2 = pd.read_csv('nbaallelo.csv')"
      ],
      "execution_count": 6,
      "outputs": []
    },
    {
      "cell_type": "code",
      "metadata": {
        "colab": {
          "base_uri": "https://localhost:8080/"
        },
        "id": "QP4s0RnO9HiY",
        "outputId": "37074ae0-b57b-42ed-fbf6-f2b8260b00d3"
      },
      "source": [
        "df1.equals(df2)"
      ],
      "execution_count": 8,
      "outputs": [
        {
          "output_type": "execute_result",
          "data": {
            "text/plain": [
              "True"
            ]
          },
          "metadata": {
            "tags": []
          },
          "execution_count": 8
        }
      ]
    },
    {
      "cell_type": "code",
      "metadata": {
        "colab": {
          "base_uri": "https://localhost:8080/",
          "height": 762
        },
        "id": "WztxpsGz9KEv",
        "outputId": "7e7d0078-9c9d-4d55-8833-c508cf59d7ec"
      },
      "source": [
        "df1.head().T"
      ],
      "execution_count": 10,
      "outputs": [
        {
          "output_type": "execute_result",
          "data": {
            "text/html": [
              "<div>\n",
              "<style scoped>\n",
              "    .dataframe tbody tr th:only-of-type {\n",
              "        vertical-align: middle;\n",
              "    }\n",
              "\n",
              "    .dataframe tbody tr th {\n",
              "        vertical-align: top;\n",
              "    }\n",
              "\n",
              "    .dataframe thead th {\n",
              "        text-align: right;\n",
              "    }\n",
              "</style>\n",
              "<table border=\"1\" class=\"dataframe\">\n",
              "  <thead>\n",
              "    <tr style=\"text-align: right;\">\n",
              "      <th></th>\n",
              "      <th>0</th>\n",
              "      <th>1</th>\n",
              "      <th>2</th>\n",
              "      <th>3</th>\n",
              "      <th>4</th>\n",
              "    </tr>\n",
              "  </thead>\n",
              "  <tbody>\n",
              "    <tr>\n",
              "      <th>gameorder</th>\n",
              "      <td>1</td>\n",
              "      <td>1</td>\n",
              "      <td>2</td>\n",
              "      <td>2</td>\n",
              "      <td>3</td>\n",
              "    </tr>\n",
              "    <tr>\n",
              "      <th>game_id</th>\n",
              "      <td>194611010TRH</td>\n",
              "      <td>194611010TRH</td>\n",
              "      <td>194611020CHS</td>\n",
              "      <td>194611020CHS</td>\n",
              "      <td>194611020DTF</td>\n",
              "    </tr>\n",
              "    <tr>\n",
              "      <th>lg_id</th>\n",
              "      <td>NBA</td>\n",
              "      <td>NBA</td>\n",
              "      <td>NBA</td>\n",
              "      <td>NBA</td>\n",
              "      <td>NBA</td>\n",
              "    </tr>\n",
              "    <tr>\n",
              "      <th>_iscopy</th>\n",
              "      <td>0</td>\n",
              "      <td>1</td>\n",
              "      <td>0</td>\n",
              "      <td>1</td>\n",
              "      <td>0</td>\n",
              "    </tr>\n",
              "    <tr>\n",
              "      <th>year_id</th>\n",
              "      <td>1947</td>\n",
              "      <td>1947</td>\n",
              "      <td>1947</td>\n",
              "      <td>1947</td>\n",
              "      <td>1947</td>\n",
              "    </tr>\n",
              "    <tr>\n",
              "      <th>date_game</th>\n",
              "      <td>11/1/1946</td>\n",
              "      <td>11/1/1946</td>\n",
              "      <td>11/2/1946</td>\n",
              "      <td>11/2/1946</td>\n",
              "      <td>11/2/1946</td>\n",
              "    </tr>\n",
              "    <tr>\n",
              "      <th>seasongame</th>\n",
              "      <td>1</td>\n",
              "      <td>1</td>\n",
              "      <td>1</td>\n",
              "      <td>2</td>\n",
              "      <td>1</td>\n",
              "    </tr>\n",
              "    <tr>\n",
              "      <th>is_playoffs</th>\n",
              "      <td>0</td>\n",
              "      <td>0</td>\n",
              "      <td>0</td>\n",
              "      <td>0</td>\n",
              "      <td>0</td>\n",
              "    </tr>\n",
              "    <tr>\n",
              "      <th>team_id</th>\n",
              "      <td>TRH</td>\n",
              "      <td>NYK</td>\n",
              "      <td>CHS</td>\n",
              "      <td>NYK</td>\n",
              "      <td>DTF</td>\n",
              "    </tr>\n",
              "    <tr>\n",
              "      <th>fran_id</th>\n",
              "      <td>Huskies</td>\n",
              "      <td>Knicks</td>\n",
              "      <td>Stags</td>\n",
              "      <td>Knicks</td>\n",
              "      <td>Falcons</td>\n",
              "    </tr>\n",
              "    <tr>\n",
              "      <th>pts</th>\n",
              "      <td>66</td>\n",
              "      <td>68</td>\n",
              "      <td>63</td>\n",
              "      <td>47</td>\n",
              "      <td>33</td>\n",
              "    </tr>\n",
              "    <tr>\n",
              "      <th>elo_i</th>\n",
              "      <td>1300</td>\n",
              "      <td>1300</td>\n",
              "      <td>1300</td>\n",
              "      <td>1306.72</td>\n",
              "      <td>1300</td>\n",
              "    </tr>\n",
              "    <tr>\n",
              "      <th>elo_n</th>\n",
              "      <td>1293.28</td>\n",
              "      <td>1306.72</td>\n",
              "      <td>1309.65</td>\n",
              "      <td>1297.07</td>\n",
              "      <td>1279.62</td>\n",
              "    </tr>\n",
              "    <tr>\n",
              "      <th>win_equiv</th>\n",
              "      <td>40.2948</td>\n",
              "      <td>41.7052</td>\n",
              "      <td>42.0123</td>\n",
              "      <td>40.6928</td>\n",
              "      <td>38.864</td>\n",
              "    </tr>\n",
              "    <tr>\n",
              "      <th>opp_id</th>\n",
              "      <td>NYK</td>\n",
              "      <td>TRH</td>\n",
              "      <td>NYK</td>\n",
              "      <td>CHS</td>\n",
              "      <td>WSC</td>\n",
              "    </tr>\n",
              "    <tr>\n",
              "      <th>opp_fran</th>\n",
              "      <td>Knicks</td>\n",
              "      <td>Huskies</td>\n",
              "      <td>Knicks</td>\n",
              "      <td>Stags</td>\n",
              "      <td>Capitols</td>\n",
              "    </tr>\n",
              "    <tr>\n",
              "      <th>opp_pts</th>\n",
              "      <td>68</td>\n",
              "      <td>66</td>\n",
              "      <td>47</td>\n",
              "      <td>63</td>\n",
              "      <td>50</td>\n",
              "    </tr>\n",
              "    <tr>\n",
              "      <th>opp_elo_i</th>\n",
              "      <td>1300</td>\n",
              "      <td>1300</td>\n",
              "      <td>1306.72</td>\n",
              "      <td>1300</td>\n",
              "      <td>1300</td>\n",
              "    </tr>\n",
              "    <tr>\n",
              "      <th>opp_elo_n</th>\n",
              "      <td>1306.72</td>\n",
              "      <td>1293.28</td>\n",
              "      <td>1297.07</td>\n",
              "      <td>1309.65</td>\n",
              "      <td>1320.38</td>\n",
              "    </tr>\n",
              "    <tr>\n",
              "      <th>game_location</th>\n",
              "      <td>H</td>\n",
              "      <td>A</td>\n",
              "      <td>H</td>\n",
              "      <td>A</td>\n",
              "      <td>H</td>\n",
              "    </tr>\n",
              "    <tr>\n",
              "      <th>game_result</th>\n",
              "      <td>L</td>\n",
              "      <td>W</td>\n",
              "      <td>W</td>\n",
              "      <td>L</td>\n",
              "      <td>L</td>\n",
              "    </tr>\n",
              "    <tr>\n",
              "      <th>forecast</th>\n",
              "      <td>0.640065</td>\n",
              "      <td>0.359935</td>\n",
              "      <td>0.631101</td>\n",
              "      <td>0.368899</td>\n",
              "      <td>0.640065</td>\n",
              "    </tr>\n",
              "    <tr>\n",
              "      <th>notes</th>\n",
              "      <td>NaN</td>\n",
              "      <td>NaN</td>\n",
              "      <td>NaN</td>\n",
              "      <td>NaN</td>\n",
              "      <td>NaN</td>\n",
              "    </tr>\n",
              "  </tbody>\n",
              "</table>\n",
              "</div>"
            ],
            "text/plain": [
              "                          0             1  ...             3             4\n",
              "gameorder                 1             1  ...             2             3\n",
              "game_id        194611010TRH  194611010TRH  ...  194611020CHS  194611020DTF\n",
              "lg_id                   NBA           NBA  ...           NBA           NBA\n",
              "_iscopy                   0             1  ...             1             0\n",
              "year_id                1947          1947  ...          1947          1947\n",
              "date_game         11/1/1946     11/1/1946  ...     11/2/1946     11/2/1946\n",
              "seasongame                1             1  ...             2             1\n",
              "is_playoffs               0             0  ...             0             0\n",
              "team_id                 TRH           NYK  ...           NYK           DTF\n",
              "fran_id             Huskies        Knicks  ...        Knicks       Falcons\n",
              "pts                      66            68  ...            47            33\n",
              "elo_i                  1300          1300  ...       1306.72          1300\n",
              "elo_n               1293.28       1306.72  ...       1297.07       1279.62\n",
              "win_equiv           40.2948       41.7052  ...       40.6928        38.864\n",
              "opp_id                  NYK           TRH  ...           CHS           WSC\n",
              "opp_fran             Knicks       Huskies  ...         Stags      Capitols\n",
              "opp_pts                  68            66  ...            63            50\n",
              "opp_elo_i              1300          1300  ...          1300          1300\n",
              "opp_elo_n           1306.72       1293.28  ...       1309.65       1320.38\n",
              "game_location             H             A  ...             A             H\n",
              "game_result               L             W  ...             L             L\n",
              "forecast           0.640065      0.359935  ...      0.368899      0.640065\n",
              "notes                   NaN           NaN  ...           NaN           NaN\n",
              "\n",
              "[23 rows x 5 columns]"
            ]
          },
          "metadata": {
            "tags": []
          },
          "execution_count": 10
        }
      ]
    },
    {
      "cell_type": "code",
      "metadata": {
        "id": "c9J2FTpI9R-f"
      },
      "source": [
        "avg_pts = df1.pts.mean()\n",
        "median_pts = df1.pts.median()\n",
        "min_pts = df1.pts.min()\n",
        "max_pts = df1.pts.max()"
      ],
      "execution_count": 28,
      "outputs": []
    },
    {
      "cell_type": "code",
      "metadata": {
        "id": "o0pVZx6I-neR"
      },
      "source": [
        "quantiles = []\n",
        "for i in range(0,100,5):\n",
        "  quantiles.append(df1.pts.quantile(i/100))"
      ],
      "execution_count": 23,
      "outputs": []
    },
    {
      "cell_type": "code",
      "metadata": {
        "colab": {
          "base_uri": "https://localhost:8080/"
        },
        "id": "7ZvbHK_I_Xcg",
        "outputId": "690c0715-df56-424d-f52b-31ed040f7ace"
      },
      "source": [
        "quantiles"
      ],
      "execution_count": 24,
      "outputs": [
        {
          "output_type": "execute_result",
          "data": {
            "text/plain": [
              "[0.0,\n",
              " 79.0,\n",
              " 84.0,\n",
              " 88.0,\n",
              " 91.0,\n",
              " 93.0,\n",
              " 95.0,\n",
              " 97.0,\n",
              " 99.0,\n",
              " 101.0,\n",
              " 103.0,\n",
              " 104.0,\n",
              " 106.0,\n",
              " 108.0,\n",
              " 110.0,\n",
              " 112.0,\n",
              " 115.0,\n",
              " 118.0,\n",
              " 122.0,\n",
              " 127.0]"
            ]
          },
          "metadata": {
            "tags": []
          },
          "execution_count": 24
        }
      ]
    },
    {
      "cell_type": "markdown",
      "metadata": {
        "id": "BPOkdTLz_7Gb"
      },
      "source": [
        ""
      ]
    },
    {
      "cell_type": "code",
      "metadata": {
        "id": "eGdpDJbY_ceA"
      },
      "source": [
        "import numpy as np\n",
        "\n",
        "assert round(avg_pts, 1) == 102.7\n",
        "assert round(median_pts, 1) == 103\n",
        "np.testing.assert_array_almost_equal(quantiles,  \n",
        "  [0.0,\n",
        "  79.0,\n",
        "  84.0,\n",
        "  88.0,\n",
        "  91.0,\n",
        "  93.0,\n",
        "  95.0,\n",
        "  97.0,\n",
        "  99.0,\n",
        "  101.0,\n",
        "  103.0,\n",
        "  104.0,\n",
        "  106.0,\n",
        "  108.0,\n",
        "  110.0,\n",
        "  112.0,\n",
        "  115.0,\n",
        "  118.0,\n",
        "  122.0,\n",
        "  127.0])\n",
        "assert round(max_pts, 2) == 186\n",
        "assert round(min_pts, 2) == 0"
      ],
      "execution_count": 27,
      "outputs": []
    },
    {
      "cell_type": "code",
      "metadata": {
        "id": "0Fy3oxcoA3io"
      },
      "source": [
        "team_mean = df1.groupby('fran_id').mean()\n"
      ],
      "execution_count": 95,
      "outputs": []
    },
    {
      "cell_type": "code",
      "metadata": {
        "id": "w7WenkGKCFYA"
      },
      "source": [
        "five_best_teams = team_mean.sort_values(by='pts',axis=0, ascending=False).head(5)"
      ],
      "execution_count": 96,
      "outputs": []
    },
    {
      "cell_type": "code",
      "metadata": {
        "colab": {
          "base_uri": "https://localhost:8080/",
          "height": 235
        },
        "id": "nCzdV-vUCGX_",
        "outputId": "6abfaf01-1663-4351-a5ab-025a77a3ab85"
      },
      "source": [
        "five_best_teams"
      ],
      "execution_count": 97,
      "outputs": [
        {
          "output_type": "execute_result",
          "data": {
            "text/html": [
              "<div>\n",
              "<style scoped>\n",
              "    .dataframe tbody tr th:only-of-type {\n",
              "        vertical-align: middle;\n",
              "    }\n",
              "\n",
              "    .dataframe tbody tr th {\n",
              "        vertical-align: top;\n",
              "    }\n",
              "\n",
              "    .dataframe thead th {\n",
              "        text-align: right;\n",
              "    }\n",
              "</style>\n",
              "<table border=\"1\" class=\"dataframe\">\n",
              "  <thead>\n",
              "    <tr style=\"text-align: right;\">\n",
              "      <th></th>\n",
              "      <th>gameorder</th>\n",
              "      <th>_iscopy</th>\n",
              "      <th>year_id</th>\n",
              "      <th>seasongame</th>\n",
              "      <th>is_playoffs</th>\n",
              "      <th>pts</th>\n",
              "      <th>elo_i</th>\n",
              "      <th>elo_n</th>\n",
              "      <th>win_equiv</th>\n",
              "      <th>opp_pts</th>\n",
              "      <th>opp_elo_i</th>\n",
              "      <th>opp_elo_n</th>\n",
              "      <th>forecast</th>\n",
              "    </tr>\n",
              "    <tr>\n",
              "      <th>fran_id</th>\n",
              "      <th></th>\n",
              "      <th></th>\n",
              "      <th></th>\n",
              "      <th></th>\n",
              "      <th></th>\n",
              "      <th></th>\n",
              "      <th></th>\n",
              "      <th></th>\n",
              "      <th></th>\n",
              "      <th></th>\n",
              "      <th></th>\n",
              "      <th></th>\n",
              "      <th></th>\n",
              "    </tr>\n",
              "  </thead>\n",
              "  <tbody>\n",
              "    <tr>\n",
              "      <th>Condors</th>\n",
              "      <td>10244.316279</td>\n",
              "      <td>0.520930</td>\n",
              "      <td>1969.955814</td>\n",
              "      <td>43.572093</td>\n",
              "      <td>0.051163</td>\n",
              "      <td>115.446512</td>\n",
              "      <td>1349.743103</td>\n",
              "      <td>1349.218208</td>\n",
              "      <td>38.071956</td>\n",
              "      <td>117.500000</td>\n",
              "      <td>1381.226312</td>\n",
              "      <td>1381.751207</td>\n",
              "      <td>0.458771</td>\n",
              "    </tr>\n",
              "    <tr>\n",
              "      <th>Squires</th>\n",
              "      <td>12655.145181</td>\n",
              "      <td>0.515645</td>\n",
              "      <td>1971.973717</td>\n",
              "      <td>45.073842</td>\n",
              "      <td>0.070088</td>\n",
              "      <td>114.051314</td>\n",
              "      <td>1395.131442</td>\n",
              "      <td>1394.786272</td>\n",
              "      <td>38.316256</td>\n",
              "      <td>116.110138</td>\n",
              "      <td>1432.313195</td>\n",
              "      <td>1432.658364</td>\n",
              "      <td>0.456003</td>\n",
              "    </tr>\n",
              "    <tr>\n",
              "      <th>Floridians</th>\n",
              "      <td>10306.715909</td>\n",
              "      <td>0.502273</td>\n",
              "      <td>1970.000000</td>\n",
              "      <td>44.527273</td>\n",
              "      <td>0.072727</td>\n",
              "      <td>112.654545</td>\n",
              "      <td>1354.030234</td>\n",
              "      <td>1353.768365</td>\n",
              "      <td>38.354782</td>\n",
              "      <td>113.702273</td>\n",
              "      <td>1382.276611</td>\n",
              "      <td>1382.538479</td>\n",
              "      <td>0.464918</td>\n",
              "    </tr>\n",
              "    <tr>\n",
              "      <th>Stars</th>\n",
              "      <td>12351.167989</td>\n",
              "      <td>0.496032</td>\n",
              "      <td>1971.711640</td>\n",
              "      <td>46.395503</td>\n",
              "      <td>0.105820</td>\n",
              "      <td>112.354497</td>\n",
              "      <td>1457.255206</td>\n",
              "      <td>1457.330003</td>\n",
              "      <td>44.709839</td>\n",
              "      <td>111.007937</td>\n",
              "      <td>1427.488422</td>\n",
              "      <td>1427.413627</td>\n",
              "      <td>0.536724</td>\n",
              "    </tr>\n",
              "    <tr>\n",
              "      <th>Colonels</th>\n",
              "      <td>12835.747045</td>\n",
              "      <td>0.490544</td>\n",
              "      <td>1972.095745</td>\n",
              "      <td>47.750591</td>\n",
              "      <td>0.120567</td>\n",
              "      <td>111.625296</td>\n",
              "      <td>1494.059687</td>\n",
              "      <td>1494.341934</td>\n",
              "      <td>47.811544</td>\n",
              "      <td>108.704492</td>\n",
              "      <td>1426.676219</td>\n",
              "      <td>1426.393972</td>\n",
              "      <td>0.581424</td>\n",
              "    </tr>\n",
              "  </tbody>\n",
              "</table>\n",
              "</div>"
            ],
            "text/plain": [
              "               gameorder   _iscopy  ...    opp_elo_n  forecast\n",
              "fran_id                             ...                       \n",
              "Condors     10244.316279  0.520930  ...  1381.751207  0.458771\n",
              "Squires     12655.145181  0.515645  ...  1432.658364  0.456003\n",
              "Floridians  10306.715909  0.502273  ...  1382.538479  0.464918\n",
              "Stars       12351.167989  0.496032  ...  1427.413627  0.536724\n",
              "Colonels    12835.747045  0.490544  ...  1426.393972  0.581424\n",
              "\n",
              "[5 rows x 13 columns]"
            ]
          },
          "metadata": {
            "tags": []
          },
          "execution_count": 97
        }
      ]
    },
    {
      "cell_type": "code",
      "metadata": {
        "id": "xaMOGd2OCrfA"
      },
      "source": [
        "np.testing.assert_array_almost_equal(five_best_teams['pts'].values, [115.44651163, 114.05131414, 112.65454545, 112.35449735, 111.62529551])"
      ],
      "execution_count": 70,
      "outputs": []
    },
    {
      "cell_type": "code",
      "metadata": {
        "id": "TAOZUWTQCzbn"
      },
      "source": [
        "In [1]: import matplotlib.pyplot as plt\n",
        "\n",
        "In [2]: plt.close('all')"
      ],
      "execution_count": 55,
      "outputs": []
    },
    {
      "cell_type": "code",
      "metadata": {
        "colab": {
          "base_uri": "https://localhost:8080/",
          "height": 294
        },
        "id": "EukaC1SIElgf",
        "outputId": "9f60e618-e776-4a0b-cf15-ca022356f73d"
      },
      "source": [
        "In [3]: ts = pd.Series(np.random.randn(1000),\n",
        "   ...:                index=pd.date_range('1/1/2000', periods=1000))\n",
        "   ...: \n",
        "\n",
        "In [4]: ts = ts.cumsum()\n",
        "\n",
        "In [5]: ts.plot()"
      ],
      "execution_count": 56,
      "outputs": [
        {
          "output_type": "execute_result",
          "data": {
            "text/plain": [
              "<matplotlib.axes._subplots.AxesSubplot at 0x7f86ae846da0>"
            ]
          },
          "metadata": {
            "tags": []
          },
          "execution_count": 56
        },
        {
          "output_type": "display_data",
          "data": {
            "image/png": "[encoded data removed]",
            "text/plain": [
              "<Figure size 432x288 with 1 Axes>"
            ]
          },
          "metadata": {
            "tags": [],
            "needs_background": "light"
          }
        }
      ]
    },
    {
      "cell_type": "code",
      "metadata": {
        "colab": {
          "base_uri": "https://localhost:8080/",
          "height": 294
        },
        "id": "kQ4nZMx4ErmX",
        "outputId": "5c5de134-563e-4ea3-9920-1ffa75aec011"
      },
      "source": [
        "In [6]: df = pd.DataFrame(np.random.randn(1000, 4),\n",
        "   ...:                   index=ts.index, columns=list('ABCD'))\n",
        "   ...: \n",
        "\n",
        "In [7]: df = df.cumsum()\n",
        "\n",
        "In [8]: plt.figure();\n",
        "\n",
        "In [9]: df.plot();"
      ],
      "execution_count": 57,
      "outputs": [
        {
          "output_type": "display_data",
          "data": {
            "text/plain": [
              "<Figure size 432x288 with 0 Axes>"
            ]
          },
          "metadata": {
            "tags": []
          }
        },
        {
          "output_type": "display_data",
          "data": {
            "image/png": "[encoded data removed]",
            "text/plain": [
              "<Figure size 432x288 with 1 Axes>"
            ]
          },
          "metadata": {
            "tags": [],
            "needs_background": "light"
          }
        }
      ]
    },
    {
      "cell_type": "code",
      "metadata": {
        "colab": {
          "base_uri": "https://localhost:8080/",
          "height": 299
        },
        "id": "mFCSSXB5E0uP",
        "outputId": "007aca3b-f237-4c71-ad98-9e1f31e550b9"
      },
      "source": [
        "In [10]: df3 = pd.DataFrame(np.random.randn(1000, 2), columns=['B', 'C']).cumsum()\n",
        "\n",
        "In [11]: df3['A'] = pd.Series(list(range(len(df))))\n",
        "\n",
        "In [12]: df3.plot(x='A', y='B')"
      ],
      "execution_count": 58,
      "outputs": [
        {
          "output_type": "execute_result",
          "data": {
            "text/plain": [
              "<matplotlib.axes._subplots.AxesSubplot at 0x7f86ae17f748>"
            ]
          },
          "metadata": {
            "tags": []
          },
          "execution_count": 58
        },
        {
          "output_type": "display_data",
          "data": {
            "image/png": "[encoded data removed]",
            "text/plain": [
              "<Figure size 432x288 with 1 Axes>"
            ]
          },
          "metadata": {
            "tags": [],
            "needs_background": "light"
          }
        }
      ]
    },
    {
      "cell_type": "code",
      "metadata": {
        "id": "lwRBYNEvE6l3"
      },
      "source": [
        "five_worst_teams = team_mean.sort_values(by = 'pts', axis=0, ascending=True).head(5)"
      ],
      "execution_count": 79,
      "outputs": []
    },
    {
      "cell_type": "code",
      "metadata": {
        "colab": {
          "base_uri": "https://localhost:8080/",
          "height": 321
        },
        "id": "5HjyfS4AFMUP",
        "outputId": "acfa3aad-3c94-4b5d-d663-20e6d7d8aea4"
      },
      "source": [
        "plt.figure();\n",
        "\n",
        "five_best_teams['pts'].plot(kind='bar', legend=True);\n"
      ],
      "execution_count": 80,
      "outputs": [
        {
          "output_type": "display_data",
          "data": {
            "image/png": "[encoded data removed]",
            "text/plain": [
              "<Figure size 432x288 with 1 Axes>"
            ]
          },
          "metadata": {
            "tags": [],
            "needs_background": "light"
          }
        }
      ]
    },
    {
      "cell_type": "code",
      "metadata": {
        "colab": {
          "base_uri": "https://localhost:8080/",
          "height": 314
        },
        "id": "HBvl0jzkFWqe",
        "outputId": "d8a844ef-c1fa-445d-9d35-163a3ec57351"
      },
      "source": [
        "plt.figure();\n",
        "\n",
        "five_worst_teams['pts'].plot(kind='bar', legend=True);"
      ],
      "execution_count": 81,
      "outputs": [
        {
          "output_type": "display_data",
          "data": {
            "image/png": "[encoded data removed]",
            "text/plain": [
              "<Figure size 432x288 with 1 Axes>"
            ]
          },
          "metadata": {
            "tags": [],
            "needs_background": "light"
          }
        }
      ]
    },
    {
      "cell_type": "code",
      "metadata": {
        "colab": {
          "base_uri": "https://localhost:8080/",
          "height": 341
        },
        "id": "G5iJ897qG6Lw",
        "outputId": "8763d6ea-a4a6-4643-dbe8-d1fa82bda476"
      },
      "source": [
        "\n",
        "plt.figure();\n",
        "team_mean['pts'].sort_values(ascending=True).plot(kind='bar', legend=True);"
      ],
      "execution_count": 85,
      "outputs": [
        {
          "output_type": "display_data",
          "data": {
            "image/png": "[encoded data removed]",
            "text/plain": [
              "<Figure size 432x288 with 1 Axes>"
            ]
          },
          "metadata": {
            "tags": [],
            "needs_background": "light"
          }
        }
      ]
    },
    {
      "cell_type": "code",
      "metadata": {
        "id": "mCR7GaZDTUVU"
      },
      "source": [
        ""
      ],
      "execution_count": null,
      "outputs": []
    },
    {
      "cell_type": "code",
      "metadata": {
        "colab": {
          "base_uri": "https://localhost:8080/",
          "height": 282
        },
        "id": "-kTN4bTmHTtX",
        "outputId": "8289f5c4-a87f-4baf-988b-ce89a6c11be4"
      },
      "source": [
        "plt.figure();\n",
        "team_mean['pts'].plot(kind='hist', bins = 20, legend=True)"
      ],
      "execution_count": 88,
      "outputs": [
        {
          "output_type": "execute_result",
          "data": {
            "text/plain": [
              "<matplotlib.axes._subplots.AxesSubplot at 0x7f86ae14e5f8>"
            ]
          },
          "metadata": {
            "tags": []
          },
          "execution_count": 88
        },
        {
          "output_type": "display_data",
          "data": {
            "image/png": "[encoded data removed]",
            "text/plain": [
              "<Figure size 432x288 with 1 Axes>"
            ]
          },
          "metadata": {
            "tags": [],
            "needs_background": "light"
          }
        }
      ]
    },
    {
      "cell_type": "code",
      "metadata": {
        "id": "M3PQidsaUa5G"
      },
      "source": [
        "yearly_wins = df1.groupby(by = ['fran_id', 'year_id'])['game_result'].count().reset_index()"
      ],
      "execution_count": 122,
      "outputs": []
    },
    {
      "cell_type": "code",
      "metadata": {
        "colab": {
          "base_uri": "https://localhost:8080/",
          "height": 314
        },
        "id": "d5YhzNIDV1rG",
        "outputId": "872926f9-cf24-48da-fbe8-2634b2f6213f"
      },
      "source": [
        "plt.figure();\n",
        "yearly_wins.rename(columns = {'game_result' : 'Games won'},inplace = True)\n",
        "yearly_wins.loc[yearly_wins['fran_id'] == 'Lakers'].plot.line(x = 'year_id', y='Games won')"
      ],
      "execution_count": 123,
      "outputs": [
        {
          "output_type": "execute_result",
          "data": {
            "text/plain": [
              "<matplotlib.axes._subplots.AxesSubplot at 0x7f86add12ef0>"
            ]
          },
          "metadata": {
            "tags": []
          },
          "execution_count": 123
        },
        {
          "output_type": "display_data",
          "data": {
            "text/plain": [
              "<Figure size 432x288 with 0 Axes>"
            ]
          },
          "metadata": {
            "tags": []
          }
        },
        {
          "output_type": "display_data",
          "data": {
            "image/png": "[encoded data removed]",
            "text/plain": [
              "<Figure size 432x288 with 1 Axes>"
            ]
          },
          "metadata": {
            "tags": [],
            "needs_background": "light"
          }
        }
      ]
    },
    {
      "cell_type": "markdown",
      "metadata": {
        "id": "QEMAlPaQXHQY"
      },
      "source": [
        "# US Births exercise"
      ]
    },
    {
      "cell_type": "code",
      "metadata": {
        "id": "h9nCg_MiXSAp"
      },
      "source": [
        "url2 = 'https://raw.githubusercontent.com/fivethirtyeight/data/master/births/US_births_2000-2014_SSA.csv'"
      ],
      "execution_count": 124,
      "outputs": []
    },
    {
      "cell_type": "code",
      "metadata": {
        "id": "SBy9ztNSXXX3"
      },
      "source": [
        "us_births = pd.read_csv(url2)"
      ],
      "execution_count": 125,
      "outputs": []
    },
    {
      "cell_type": "code",
      "metadata": {
        "colab": {
          "base_uri": "https://localhost:8080/",
          "height": 204
        },
        "id": "eoczE6YiXin-",
        "outputId": "159abcf3-a37b-475a-fe13-ec7c6c13e77b"
      },
      "source": [
        "us_births.head()"
      ],
      "execution_count": 126,
      "outputs": [
        {
          "output_type": "execute_result",
          "data": {
            "text/html": [
              "<div>\n",
              "<style scoped>\n",
              "    .dataframe tbody tr th:only-of-type {\n",
              "        vertical-align: middle;\n",
              "    }\n",
              "\n",
              "    .dataframe tbody tr th {\n",
              "        vertical-align: top;\n",
              "    }\n",
              "\n",
              "    .dataframe thead th {\n",
              "        text-align: right;\n",
              "    }\n",
              "</style>\n",
              "<table border=\"1\" class=\"dataframe\">\n",
              "  <thead>\n",
              "    <tr style=\"text-align: right;\">\n",
              "      <th></th>\n",
              "      <th>year</th>\n",
              "      <th>month</th>\n",
              "      <th>date_of_month</th>\n",
              "      <th>day_of_week</th>\n",
              "      <th>births</th>\n",
              "    </tr>\n",
              "  </thead>\n",
              "  <tbody>\n",
              "    <tr>\n",
              "      <th>0</th>\n",
              "      <td>2000</td>\n",
              "      <td>1</td>\n",
              "      <td>1</td>\n",
              "      <td>6</td>\n",
              "      <td>9083</td>\n",
              "    </tr>\n",
              "    <tr>\n",
              "      <th>1</th>\n",
              "      <td>2000</td>\n",
              "      <td>1</td>\n",
              "      <td>2</td>\n",
              "      <td>7</td>\n",
              "      <td>8006</td>\n",
              "    </tr>\n",
              "    <tr>\n",
              "      <th>2</th>\n",
              "      <td>2000</td>\n",
              "      <td>1</td>\n",
              "      <td>3</td>\n",
              "      <td>1</td>\n",
              "      <td>11363</td>\n",
              "    </tr>\n",
              "    <tr>\n",
              "      <th>3</th>\n",
              "      <td>2000</td>\n",
              "      <td>1</td>\n",
              "      <td>4</td>\n",
              "      <td>2</td>\n",
              "      <td>13032</td>\n",
              "    </tr>\n",
              "    <tr>\n",
              "      <th>4</th>\n",
              "      <td>2000</td>\n",
              "      <td>1</td>\n",
              "      <td>5</td>\n",
              "      <td>3</td>\n",
              "      <td>12558</td>\n",
              "    </tr>\n",
              "  </tbody>\n",
              "</table>\n",
              "</div>"
            ],
            "text/plain": [
              "   year  month  date_of_month  day_of_week  births\n",
              "0  2000      1              1            6    9083\n",
              "1  2000      1              2            7    8006\n",
              "2  2000      1              3            1   11363\n",
              "3  2000      1              4            2   13032\n",
              "4  2000      1              5            3   12558"
            ]
          },
          "metadata": {
            "tags": []
          },
          "execution_count": 126
        }
      ]
    },
    {
      "cell_type": "markdown",
      "metadata": {
        "id": "2ORg6NTtYEEQ"
      },
      "source": [
        "How does the month impact childbirth?"
      ]
    },
    {
      "cell_type": "code",
      "metadata": {
        "id": "Oi85PgnlYFrR"
      },
      "source": [
        "monthly_rates = us_births.groupby('month')['births'].sum()"
      ],
      "execution_count": 128,
      "outputs": []
    },
    {
      "cell_type": "code",
      "metadata": {
        "colab": {
          "base_uri": "https://localhost:8080/",
          "height": 307
        },
        "id": "sct7LG0oYRvl",
        "outputId": "19157f96-40b9-4269-a744-a4f21e9f2273"
      },
      "source": [
        "plt.figure();\n",
        "monthly_rates.plot.line()"
      ],
      "execution_count": 164,
      "outputs": [
        {
          "output_type": "execute_result",
          "data": {
            "text/plain": [
              "<matplotlib.axes._subplots.AxesSubplot at 0x7f86ad71a0f0>"
            ]
          },
          "metadata": {
            "tags": []
          },
          "execution_count": 164
        },
        {
          "output_type": "display_data",
          "data": {
            "image/png": "[encoded data removed]",
            "text/plain": [
              "<Figure size 432x288 with 1 Axes>"
            ]
          },
          "metadata": {
            "tags": [],
            "needs_background": "light"
          }
        }
      ]
    },
    {
      "cell_type": "markdown",
      "metadata": {
        "id": "ZYiGghoYdl93"
      },
      "source": [
        "It is evident that there's an increase in births during the Q3, meaning that a lot of children are conceived during the Q4 period. Possible explanations could be the cooler weather (more time spent at home), family holidays (thanksgiving, christmas). "
      ]
    },
    {
      "cell_type": "markdown",
      "metadata": {
        "id": "6OjLDVYiYieO"
      },
      "source": [
        "Have there been any significants ups / downs in chilbirth throughout the years? Could you explain them?"
      ]
    },
    {
      "cell_type": "code",
      "metadata": {
        "id": "6B2tyn3iYnEP"
      },
      "source": [
        "yearly_rates = us_births.groupby('year')['births'].sum()"
      ],
      "execution_count": 131,
      "outputs": []
    },
    {
      "cell_type": "code",
      "metadata": {
        "colab": {
          "base_uri": "https://localhost:8080/",
          "height": 307
        },
        "id": "otXYDxlfYsr-",
        "outputId": "7e6f9b6b-871a-4ebc-a246-c8588f028e02"
      },
      "source": [
        "plt.figure();\n",
        "yearly_rates.plot.line()"
      ],
      "execution_count": 132,
      "outputs": [
        {
          "output_type": "execute_result",
          "data": {
            "text/plain": [
              "<matplotlib.axes._subplots.AxesSubplot at 0x7f86adcaf0b8>"
            ]
          },
          "metadata": {
            "tags": []
          },
          "execution_count": 132
        },
        {
          "output_type": "display_data",
          "data": {
            "image/png": "[encoded data removed]",
            "text/plain": [
              "<Figure size 432x288 with 1 Axes>"
            ]
          },
          "metadata": {
            "tags": [],
            "needs_background": "light"
          }
        }
      ]
    },
    {
      "cell_type": "markdown",
      "metadata": {
        "id": "o8cSCL1VdRSj"
      },
      "source": [
        "There was a steady and continuous increase in birth rates up to the economical crisis of 2008, which, understandably, resulted in cost-cutting, less income and etc."
      ]
    },
    {
      "cell_type": "markdown",
      "metadata": {
        "id": "H20-orOAY7CI"
      },
      "source": [
        "Which days of the week children are born most frequently on?"
      ]
    },
    {
      "cell_type": "code",
      "metadata": {
        "colab": {
          "base_uri": "https://localhost:8080/"
        },
        "id": "BqEWrp3mYwSV",
        "outputId": "69d37e6a-f53c-4dce-831c-b720afe407d5"
      },
      "source": [
        "week_day_rates = us_births.groupby('day_of_week')['births'].sum()\n",
        "week_day_rates"
      ],
      "execution_count": 160,
      "outputs": [
        {
          "output_type": "execute_result",
          "data": {
            "text/plain": [
              "day_of_week\n",
              "1     9316001\n",
              "2    10274874\n",
              "3    10109130\n",
              "4    10045436\n",
              "5     9850199\n",
              "6     6704495\n",
              "7     5886889\n",
              "Name: births, dtype: int64"
            ]
          },
          "metadata": {
            "tags": []
          },
          "execution_count": 160
        }
      ]
    },
    {
      "cell_type": "code",
      "metadata": {
        "colab": {
          "base_uri": "https://localhost:8080/",
          "height": 305
        },
        "id": "tPkf5vxXZCeG",
        "outputId": "b6cafe50-6a2c-451b-a14e-038ee940bd13"
      },
      "source": [
        "plt.figure();\n",
        "week_day_rates.plot.bar()"
      ],
      "execution_count": 165,
      "outputs": [
        {
          "output_type": "execute_result",
          "data": {
            "text/plain": [
              "<matplotlib.axes._subplots.AxesSubplot at 0x7f86ad67eeb8>"
            ]
          },
          "metadata": {
            "tags": []
          },
          "execution_count": 165
        },
        {
          "output_type": "display_data",
          "data": {
            "image/png": "[encoded data removed]",
            "text/plain": [
              "<Figure size 432x288 with 1 Axes>"
            ]
          },
          "metadata": {
            "tags": [],
            "needs_background": "light"
          }
        }
      ]
    },
    {
      "cell_type": "markdown",
      "metadata": {
        "id": "7jLKUpQ0heDc"
      },
      "source": [
        "Children are mostly born during the weekdays, tuesday and wednesday being the most common days."
      ]
    },
    {
      "cell_type": "markdown",
      "metadata": {
        "id": "2qOaOg4UZc6g"
      },
      "source": [
        "What's the lowest/biggest amount of childbirths per month?"
      ]
    },
    {
      "cell_type": "code",
      "metadata": {
        "colab": {
          "base_uri": "https://localhost:8080/",
          "height": 483
        },
        "id": "o6-qV-mgZl-F",
        "outputId": "d425b496-ca89-42f6-a0df-c9c00d60504f"
      },
      "source": [
        "monthly_minmax = us_births.groupby('month').agg({'births' : ['min', 'max']})\n",
        "monthly_minmax"
      ],
      "execution_count": 148,
      "outputs": [
        {
          "output_type": "execute_result",
          "data": {
            "text/html": [
              "<div>\n",
              "<style scoped>\n",
              "    .dataframe tbody tr th:only-of-type {\n",
              "        vertical-align: middle;\n",
              "    }\n",
              "\n",
              "    .dataframe tbody tr th {\n",
              "        vertical-align: top;\n",
              "    }\n",
              "\n",
              "    .dataframe thead tr th {\n",
              "        text-align: left;\n",
              "    }\n",
              "\n",
              "    .dataframe thead tr:last-of-type th {\n",
              "        text-align: right;\n",
              "    }\n",
              "</style>\n",
              "<table border=\"1\" class=\"dataframe\">\n",
              "  <thead>\n",
              "    <tr>\n",
              "      <th></th>\n",
              "      <th colspan=\"2\" halign=\"left\">births</th>\n",
              "    </tr>\n",
              "    <tr>\n",
              "      <th></th>\n",
              "      <th>min</th>\n",
              "      <th>max</th>\n",
              "    </tr>\n",
              "    <tr>\n",
              "      <th>month</th>\n",
              "      <th></th>\n",
              "      <th></th>\n",
              "    </tr>\n",
              "  </thead>\n",
              "  <tbody>\n",
              "    <tr>\n",
              "      <th>1</th>\n",
              "      <td>6540</td>\n",
              "      <td>13960</td>\n",
              "    </tr>\n",
              "    <tr>\n",
              "      <th>2</th>\n",
              "      <td>6707</td>\n",
              "      <td>14207</td>\n",
              "    </tr>\n",
              "    <tr>\n",
              "      <th>3</th>\n",
              "      <td>6497</td>\n",
              "      <td>13844</td>\n",
              "    </tr>\n",
              "    <tr>\n",
              "      <th>4</th>\n",
              "      <td>6545</td>\n",
              "      <td>13729</td>\n",
              "    </tr>\n",
              "    <tr>\n",
              "      <th>5</th>\n",
              "      <td>6609</td>\n",
              "      <td>14569</td>\n",
              "    </tr>\n",
              "    <tr>\n",
              "      <th>6</th>\n",
              "      <td>6963</td>\n",
              "      <td>14395</td>\n",
              "    </tr>\n",
              "    <tr>\n",
              "      <th>7</th>\n",
              "      <td>7279</td>\n",
              "      <td>15007</td>\n",
              "    </tr>\n",
              "    <tr>\n",
              "      <th>8</th>\n",
              "      <td>7352</td>\n",
              "      <td>15374</td>\n",
              "    </tr>\n",
              "    <tr>\n",
              "      <th>9</th>\n",
              "      <td>7399</td>\n",
              "      <td>16081</td>\n",
              "    </tr>\n",
              "    <tr>\n",
              "      <th>10</th>\n",
              "      <td>6870</td>\n",
              "      <td>14550</td>\n",
              "    </tr>\n",
              "    <tr>\n",
              "      <th>11</th>\n",
              "      <td>6864</td>\n",
              "      <td>14835</td>\n",
              "    </tr>\n",
              "    <tr>\n",
              "      <th>12</th>\n",
              "      <td>5728</td>\n",
              "      <td>15645</td>\n",
              "    </tr>\n",
              "  </tbody>\n",
              "</table>\n",
              "</div>"
            ],
            "text/plain": [
              "      births       \n",
              "         min    max\n",
              "month              \n",
              "1       6540  13960\n",
              "2       6707  14207\n",
              "3       6497  13844\n",
              "4       6545  13729\n",
              "5       6609  14569\n",
              "6       6963  14395\n",
              "7       7279  15007\n",
              "8       7352  15374\n",
              "9       7399  16081\n",
              "10      6870  14550\n",
              "11      6864  14835\n",
              "12      5728  15645"
            ]
          },
          "metadata": {
            "tags": []
          },
          "execution_count": 148
        }
      ]
    },
    {
      "cell_type": "markdown",
      "metadata": {
        "id": "OQLrgU1oawiJ"
      },
      "source": [
        "Which months are most / least predictable in terms of childbirth? (hint - use standard deviation)"
      ]
    },
    {
      "cell_type": "code",
      "metadata": {
        "colab": {
          "base_uri": "https://localhost:8080/"
        },
        "id": "jgebq4tIagzM",
        "outputId": "d637e75d-bd33-4d0f-e222-552eefe05475"
      },
      "source": [
        "monthly_std = us_births.groupby('month')['births'].std()\n",
        "monthly_std"
      ],
      "execution_count": 159,
      "outputs": [
        {
          "output_type": "execute_result",
          "data": {
            "text/plain": [
              "month\n",
              "1     2166.016841\n",
              "2     2153.713646\n",
              "3     2174.596904\n",
              "4     2203.383134\n",
              "5     2333.335522\n",
              "6     2255.685813\n",
              "7     2358.034529\n",
              "8     2299.771394\n",
              "9     2456.548637\n",
              "10    2218.436895\n",
              "11    2413.190333\n",
              "12    2553.815885\n",
              "Name: births, dtype: float64"
            ]
          },
          "metadata": {
            "tags": []
          },
          "execution_count": 159
        }
      ]
    },
    {
      "cell_type": "markdown",
      "metadata": {
        "id": "Xhp6IFUtbwCO"
      },
      "source": [
        "Months with the largest standard deviations are the least predictable, i.e. 9, 11 and 12."
      ]
    }
  ]
}